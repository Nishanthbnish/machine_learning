{
 "cells": [
  {
   "cell_type": "code",
   "execution_count": 8,
   "metadata": {},
   "outputs": [
    {
     "ename": "SyntaxError",
     "evalue": "invalid syntax (<ipython-input-8-c16db03e465e>, line 27)",
     "output_type": "error",
     "traceback": [
      "\u001b[0;36m  File \u001b[0;32m\"<ipython-input-8-c16db03e465e>\"\u001b[0;36m, line \u001b[0;32m27\u001b[0m\n\u001b[0;31m    print(\"classifier label:\", classifier.score(x_test,y_test))\u001b[0m\n\u001b[0m        ^\u001b[0m\n\u001b[0;31mSyntaxError\u001b[0m\u001b[0;31m:\u001b[0m invalid syntax\n"
     ]
    }
   ],
   "source": [
    "from sklearn.model_selection import train_test_split\n",
    "from sklearn.neighbors import KNeighborsClassifier\n",
    "from sklearn import datasets\n",
    "iris=datasets.load_iris()\n",
    "print('the datasets are set to load')\n",
    "x_train,x_test,y_train,y_test=train_test_split(iris.data,iris.target,test_size=0.1)\n",
    "print(\"/n The size are splited into training and testing \")\n",
    "print(\"size of  training after splited\",x_train.shape,y_train.shape)\n",
    "print(\"size of  testing after splited\",x_test.shape,y_test.shape)\n",
    "\n",
    "\n",
    "\n",
    "for i in range(len(iris.target_names)):\n",
    "    print(\"label:\",i, \"-\" ,str[iris.target_names[i]])\n",
    "    \n",
    "#classifier\n",
    "classifier=KNeighborsClassifier(n_neighbors=1)\n",
    "\n",
    "classifier.fit(x_train,y-train)\n",
    "\n",
    "y_pred=classifier.predict(x_test)\n",
    "\n",
    "\n",
    "print(\"the Knn algorithm classifies as k=1\")\n",
    "for r in range(0,len(x_test)):\n",
    "    print(\"sample label:\",str(x_test[r]),\"Actual label:\" ,str(y_test[r]),\"predicted label:\",str(y_pred[r])\n",
    "print(\"classifier label:\", classifier.score(x_test,y_test))   \n",
    "\n"
   ]
  },
  {
   "cell_type": "code",
   "execution_count": 9,
   "metadata": {},
   "outputs": [
    {
     "name": "stdout",
     "output_type": "stream",
     "text": [
      "the datasets are set to load\n",
      "/n The size are splited into training and testing \n",
      "size of  training after splited (135, 4) (135,)\n",
      "size of  testing after splited (15, 4) (15,)\n"
     ]
    },
    {
     "ename": "TypeError",
     "evalue": "'type' object is not subscriptable",
     "output_type": "error",
     "traceback": [
      "\u001b[0;31m---------------------------------------------------------------------------\u001b[0m",
      "\u001b[0;31mTypeError\u001b[0m                                 Traceback (most recent call last)",
      "\u001b[0;32m<ipython-input-9-16e29020b7f4>\u001b[0m in \u001b[0;36m<module>\u001b[0;34m\u001b[0m\n\u001b[1;32m     12\u001b[0m \u001b[0;34m\u001b[0m\u001b[0m\n\u001b[1;32m     13\u001b[0m \u001b[0;32mfor\u001b[0m \u001b[0mi\u001b[0m \u001b[0;32min\u001b[0m \u001b[0mrange\u001b[0m\u001b[0;34m(\u001b[0m\u001b[0mlen\u001b[0m\u001b[0;34m(\u001b[0m\u001b[0miris\u001b[0m\u001b[0;34m.\u001b[0m\u001b[0mtarget_names\u001b[0m\u001b[0;34m)\u001b[0m\u001b[0;34m)\u001b[0m\u001b[0;34m:\u001b[0m\u001b[0;34m\u001b[0m\u001b[0;34m\u001b[0m\u001b[0m\n\u001b[0;32m---> 14\u001b[0;31m     \u001b[0mprint\u001b[0m\u001b[0;34m(\u001b[0m\u001b[0;34m\"label:\"\u001b[0m\u001b[0;34m,\u001b[0m \u001b[0mi\u001b[0m \u001b[0;34m,\u001b[0m \u001b[0;34m\"-\"\u001b[0m \u001b[0;34m,\u001b[0m\u001b[0mstr\u001b[0m\u001b[0;34m[\u001b[0m\u001b[0miris\u001b[0m\u001b[0;34m.\u001b[0m\u001b[0mtarget_names\u001b[0m\u001b[0;34m[\u001b[0m\u001b[0mi\u001b[0m\u001b[0;34m]\u001b[0m\u001b[0;34m]\u001b[0m\u001b[0;34m)\u001b[0m\u001b[0;34m\u001b[0m\u001b[0;34m\u001b[0m\u001b[0m\n\u001b[0m\u001b[1;32m     15\u001b[0m \u001b[0;34m\u001b[0m\u001b[0m\n\u001b[1;32m     16\u001b[0m \u001b[0;31m#classifier\u001b[0m\u001b[0;34m\u001b[0m\u001b[0;34m\u001b[0m\u001b[0;34m\u001b[0m\u001b[0m\n",
      "\u001b[0;31mTypeError\u001b[0m: 'type' object is not subscriptable"
     ]
    }
   ],
   "source": [
    "from sklearn.model_selection import train_test_split\n",
    "from sklearn.neighbors import KNeighborsClassifier\n",
    "from sklearn import datasets\n",
    "iris=datasets.load_iris()\n",
    "print('the datasets are set to load')\n",
    "x_train,x_test,y_train,y_test=train_test_split(iris.data,iris.target,test_size=0.1)\n",
    "print(\"/n The size are splited into training and testing \")\n",
    "print(\"size of  training after splited\",x_train.shape,y_train.shape)\n",
    "print(\"size of  testing after splited\",x_test.shape,y_test.shape)\n",
    "\n",
    "\n",
    "\n",
    "for i in range(len(iris.target_names)):\n",
    "    print(\"label:\", i , \"-\" ,str[iris.target_names[i]])\n",
    "    \n",
    "#classifier\n",
    "classifier=KNeighborsClassifier(n_neighbors=1)\n",
    "\n",
    "classifier.fit(x_train,y-train)\n",
    "\n",
    "y_pred=classifier.predict(x_test)\n",
    "\n",
    "\n",
    "print(\"the Knn algorithm classifies as k=1\")\n",
    "for r in range(0,len(x_test)):\n",
    "    print(\"sample label:\",str(x_test[r]),\"Actual label:\" ,str(y_test[r]),\"predicted label:\",str(y_pred[r]))\n",
    "print(\"classifier label:\", classifier.score(x_test,y_test))   \n",
    "\n"
   ]
  },
  {
   "cell_type": "code",
   "execution_count": 15,
   "metadata": {},
   "outputs": [
    {
     "name": "stdout",
     "output_type": "stream",
     "text": [
      "the datasets are set to load\n",
      "/n The size are splited into training and testing \n",
      "size of  training after splited (135, 4) (135,)\n",
      "size of  testing after splited (15, 4) (15,)\n"
     ]
    },
    {
     "ename": "TypeError",
     "evalue": "'type' object is not subscriptable",
     "output_type": "error",
     "traceback": [
      "\u001b[0;31m---------------------------------------------------------------------------\u001b[0m",
      "\u001b[0;31mTypeError\u001b[0m                                 Traceback (most recent call last)",
      "\u001b[0;32m<ipython-input-15-15790c4c626c>\u001b[0m in \u001b[0;36m<module>\u001b[0;34m\u001b[0m\n\u001b[1;32m     12\u001b[0m \u001b[0;34m\u001b[0m\u001b[0m\n\u001b[1;32m     13\u001b[0m \u001b[0;32mfor\u001b[0m \u001b[0mi\u001b[0m \u001b[0;32min\u001b[0m \u001b[0mrange\u001b[0m\u001b[0;34m(\u001b[0m\u001b[0;36m0\u001b[0m\u001b[0;34m,\u001b[0m\u001b[0mlen\u001b[0m\u001b[0;34m(\u001b[0m\u001b[0miris\u001b[0m\u001b[0;34m.\u001b[0m\u001b[0mtarget_names\u001b[0m\u001b[0;34m)\u001b[0m\u001b[0;34m)\u001b[0m\u001b[0;34m:\u001b[0m\u001b[0;34m\u001b[0m\u001b[0;34m\u001b[0m\u001b[0m\n\u001b[0;32m---> 14\u001b[0;31m     \u001b[0mprint\u001b[0m\u001b[0;34m(\u001b[0m\u001b[0;34m\"label:\"\u001b[0m\u001b[0;34m,\u001b[0m \u001b[0mi\u001b[0m \u001b[0;34m,\u001b[0m \u001b[0;34m\"-\"\u001b[0m \u001b[0;34m,\u001b[0m\u001b[0mstr\u001b[0m\u001b[0;34m[\u001b[0m\u001b[0miris\u001b[0m\u001b[0;34m.\u001b[0m\u001b[0mtarget_names\u001b[0m\u001b[0;34m[\u001b[0m\u001b[0mi\u001b[0m\u001b[0;34m]\u001b[0m\u001b[0;34m]\u001b[0m\u001b[0;34m)\u001b[0m\u001b[0;34m\u001b[0m\u001b[0;34m\u001b[0m\u001b[0m\n\u001b[0m\u001b[1;32m     15\u001b[0m \u001b[0;34m\u001b[0m\u001b[0m\n\u001b[1;32m     16\u001b[0m \u001b[0;34m\u001b[0m\u001b[0m\n",
      "\u001b[0;31mTypeError\u001b[0m: 'type' object is not subscriptable"
     ]
    }
   ],
   "source": [
    "from sklearn.model_selection import train_test_split\n",
    "from sklearn.neighbors import KNeighborsClassifier\n",
    "from sklearn import datasets\n",
    "iris=datasets.load_iris()\n",
    "print('the datasets are set to load')\n",
    "x_train,x_test,y_train,y_test=train_test_split(iris.data,iris.target,test_size=0.1)\n",
    "print(\"/n The size are splited into training and testing \")\n",
    "print(\"size of  training after splited\",x_train.shape,y_train.shape)\n",
    "print(\"size of  testing after splited\",x_test.shape,y_test.shape)\n",
    "\n",
    "\n",
    "\n",
    "for i in range(0,len(iris.target_names)):\n",
    "    print(\"label:\", i , \"-\" ,str[iris.target_names[i]])\n",
    "    \n",
    "    \n",
    "\n",
    "classifier=KNeighborsClassifier(n_neighbors=1)\n",
    "\n",
    "classifier.fit(x_train,y-train)\n",
    "\n",
    "y_pred=classifier.predict(x_test)\n",
    "\n",
    "\n",
    "print(\"the Knn algorithm classifies as k=1\")\n",
    "for r in range(0,len(x_test)):\n",
    "    print(\"sample label:\",str(x_test[r]),\"Actual label:\" ,str(y_test[r]),\"predicted label:\",str(y_pred[r]))\n",
    "print(\"classifier label:\", classifier.score(x_test,y_test))   \n",
    "\n"
   ]
  },
  {
   "cell_type": "code",
   "execution_count": null,
   "metadata": {},
   "outputs": [],
   "source": []
  }
 ],
 "metadata": {
  "kernelspec": {
   "display_name": "Python 3",
   "language": "python",
   "name": "python3"
  },
  "language_info": {
   "codemirror_mode": {
    "name": "ipython",
    "version": 3
   },
   "file_extension": ".py",
   "mimetype": "text/x-python",
   "name": "python",
   "nbconvert_exporter": "python",
   "pygments_lexer": "ipython3",
   "version": "3.7.6"
  }
 },
 "nbformat": 4,
 "nbformat_minor": 4
}
