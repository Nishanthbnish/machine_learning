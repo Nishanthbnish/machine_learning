{
 "cells": [
  {
   "cell_type": "markdown",
   "metadata": {},
   "source": [
    "# Program4: Build an Artificial Neural Network by implementing the Backpropagation algorithm and test the same using appropriate data sets"
   ]
  },
  {
   "cell_type": "code",
   "execution_count": 1,
   "metadata": {},
   "outputs": [],
   "source": [
    "import numpy as np\n",
    "X=np.array(([2,9],[1,5],[3,6]), dtype=float)#Features(Hrs Slept, Hrs Studied)\n",
    "y= np.array(([92], [86],[89]), dtype=float)#Labels(Marks obtained)\n",
    "X =X/np.amax(X,axis=0) #Normalize\n",
    "y=y/100"
   ]
  },
  {
   "cell_type": "code",
   "execution_count": 2,
   "metadata": {},
   "outputs": [],
   "source": [
    "def sigmoid (x):\n",
    "    return 1/(1 + np.exp(-x))\n",
    "def sigmoid_grad(x):\n",
    "    return x* (1-x)\n",
    "#variable initialization\n",
    "epoch=1000\t#Setting training iterations\n",
    "eta=0.2\t#Setting leaning rate(eta)\n",
    "input_neurons = 2 #number of features in data set\n",
    "hidden_neurons =3 #number of hidden layers neurons\n",
    "output_neurons =1 #number of neurons at output layer"
   ]
  },
  {
   "cell_type": "code",
   "execution_count": 3,
   "metadata": {},
   "outputs": [],
   "source": [
    "#Weight and bias - Random initialization \n",
    "wh=np.random.uniform(size=(input_neurons,hidden_neurons)) \n",
    "bh=np.random.uniform(size=(1,hidden_neurons)) \n",
    "wout=np.random.uniform(size=(hidden_neurons,output_neurons)) \n",
    "bout=np.random.uniform(size=(1,output_neurons))"
   ]
  },
  {
   "cell_type": "code",
   "execution_count": 4,
   "metadata": {},
   "outputs": [
    {
     "name": "stdout",
     "output_type": "stream",
     "text": [
      "[[0.17343245 0.45600872 0.83551191]\n",
      " [0.67209947 0.01827431 0.84517983]]\n",
      "[[0.63760851 0.73623432 0.54953059]]\n"
     ]
    }
   ],
   "source": [
    "print(wh)\n",
    "print(bh)"
   ]
  },
  {
   "cell_type": "code",
   "execution_count": 5,
   "metadata": {},
   "outputs": [
    {
     "name": "stdout",
     "output_type": "stream",
     "text": [
      "[[0.27188798]\n",
      " [0.74494668]\n",
      " [0.46625695]]\n",
      "[[0.46637817]]\n"
     ]
    }
   ],
   "source": [
    "print(wout)\n",
    "print(bout)"
   ]
  },
  {
   "cell_type": "code",
   "execution_count": 4,
   "metadata": {},
   "outputs": [
    {
     "name": "stdout",
     "output_type": "stream",
     "text": [
      "Normalized Input: \n",
      "[[0.66666667 1.        ]\n",
      " [0.33333333 0.55555556]\n",
      " [1.         0.66666667]]\n",
      "Actual Output: \n",
      "[[0.92]\n",
      " [0.86]\n",
      " [0.89]]\n",
      "Predicted Output : \n",
      " [[0.8969548 ]\n",
      " [0.87694914]\n",
      " [0.89512028]]\n"
     ]
    }
   ],
   "source": [
    "for i in range(epoch):\n",
    "#forward propogation\n",
    "    h_ip=np.dot(X,wh)+bh\n",
    "    h_act=sigmoid(h_ip)\n",
    "    o_ip=np.dot(h_act,wout)\n",
    "    output =sigmoid(o_ip)\n",
    "    #Back propogation\n",
    "    #Error at Outuput layer\n",
    "    Eo = y-output\n",
    "    outgrad=sigmoid_grad(output)\n",
    "    d_output=Eo*outgrad\n",
    "    #Error at Hidden layer\n",
    "    Eh=d_output.dot(wout.T)\n",
    "    hiddengrad=sigmoid_grad(h_act)\n",
    "    d_hidden=Eh*hiddengrad\n",
    "    wout += h_act.T.dot(d_output)*eta\n",
    "    wh += X.T.dot(d_hidden)*eta\n",
    "print(\"Normalized Input: \\n\"+ str(X))\n",
    "print(\"Actual Output: \\n\"+ str(y))\n",
    "print(\"Predicted Output : \\n\", output)"
   ]
  }
 ],
 "metadata": {
  "kernelspec": {
   "display_name": "Python 3",
   "language": "python",
   "name": "python3"
  },
  "language_info": {
   "codemirror_mode": {
    "name": "ipython",
    "version": 3
   },
   "file_extension": ".py",
   "mimetype": "text/x-python",
   "name": "python",
   "nbconvert_exporter": "python",
   "pygments_lexer": "ipython3",
   "version": "3.7.0"
  }
 },
 "nbformat": 4,
 "nbformat_minor": 2
}
