{
 "cells": [
  {
   "cell_type": "code",
   "execution_count": 1,
   "metadata": {},
   "outputs": [],
   "source": [
    "import numpy as np\n",
    "import pandas as pd\n",
    "import csv\n",
    "from pgmpy.estimators import MaximumLikelihoodEstimator \n",
    "from pgmpy.models import BayesianModel\n",
    "from pgmpy.inference import VariableElimination"
   ]
  },
  {
   "cell_type": "code",
   "execution_count": 2,
   "metadata": {},
   "outputs": [],
   "source": [
    "#Read the attributes\n",
    "lines=list(csv.reader(open('data7_names.csv','r')));\n",
    "attributes=lines[0]\n",
    "#names = ['age', 'sex', 'cp', 'trestbps', 'chol', 'fbs', 'restecg', 'thalach', 'exang', 'oldpeak', 'slope', 'ca', 'thal', 'heartdisease']"
   ]
  },
  {
   "cell_type": "code",
   "execution_count": 4,
   "metadata": {},
   "outputs": [
    {
     "name": "stdout",
     "output_type": "stream",
     "text": [
      "Few examples from the dataset are given below\n",
      "   age  sex  cp  trestbps  chol  fbs  restecg  thalach  exang  oldpeak  slope  \\\n",
      "0   63    1   1       145   233    1        2      150      0      2.3      3   \n",
      "1   67    1   4       160   286    0        2      108      1      1.5      2   \n",
      "2   67    1   4       120   229    0        2      129      1      2.6      2   \n",
      "3   37    1   3       130   250    0        0      187      0      3.5      3   \n",
      "4   41    0   2       130   204    0        2      172      0      1.4      1   \n",
      "5   56    1   2       120   236    0        0      178      0      0.8      1   \n",
      "6   62    0   4       140   268    0        2      160      0      3.6      3   \n",
      "7   57    0   4       120   354    0        0      163      1      0.6      1   \n",
      "8   63    1   4       130   254    0        2      147      0      1.4      2   \n",
      "9   53    1   4       140   203    1        2      155      1      3.1      3   \n",
      "\n",
      "  ca thal  heartdisease  \n",
      "0  0    6             0  \n",
      "1  3    3             2  \n",
      "2  2    7             1  \n",
      "3  0    3             0  \n",
      "4  0    3             0  \n",
      "5  0    3             0  \n",
      "6  2    3             3  \n",
      "7  0    3             0  \n",
      "8  1    7             2  \n",
      "9  0    7             1  \n"
     ]
    }
   ],
   "source": [
    "#Read Cleveland Heart Disease data\n",
    "heartDisease = pd.read_csv('data7.csv',names=attributes)\n",
    "#heartDisease = heartDisease.replace('?',np.nan)\n",
    "#Display the data\n",
    "print('Few examples from the dataset are given below')\n",
    "print(heartDisease.head(10))"
   ]
  },
  {
   "cell_type": "code",
   "execution_count": 6,
   "metadata": {},
   "outputs": [],
   "source": [
    "#Model Baysian Network\n",
    "model = BayesianModel([('age', 'trestbps'), ('age', 'fbs'),('sex', 'trestbps'), ('exang', 'trestbps'),('trestbps','heartdisease'),\n",
    "('fbs','heartdisease'), ('heartdisease','restecg'),('heartdisease','thalach'),('heartdisease','chol')])"
   ]
  },
  {
   "cell_type": "code",
   "execution_count": 7,
   "metadata": {},
   "outputs": [
    {
     "name": "stdout",
     "output_type": "stream",
     "text": [
      "\n",
      "Learing CPDs using Maximum Likelihood Estimators....\n",
      "\n",
      " Inferencing with Bayesian Network :\n"
     ]
    }
   ],
   "source": [
    "#Learing CPDs using Maximum Likelihood Estimators \n",
    "print('\\nLearing CPDs using Maximum Likelihood Estimators....') \n",
    "model.fit(heartDisease, estimator=MaximumLikelihoodEstimator)\n",
    "#Doing exact inference using Variable Elimination\n",
    "print('\\n Inferencing with Bayesian Network :')\n",
    "HeartDisease_infer = VariableElimination(model)"
   ]
  },
  {
   "cell_type": "code",
   "execution_count": 10,
   "metadata": {},
   "outputs": [
    {
     "name": "stdout",
     "output_type": "stream",
     "text": [
      "\n",
      "1.Probability of HeartDisease given Age=35\n"
     ]
    },
    {
     "name": "stderr",
     "output_type": "stream",
     "text": [
      "C:\\Users\\rakshith\\Anaconda3\\lib\\site-packages\\pgmpy\\factors\\discrete\\DiscreteFactor.py:586: FutureWarning: Using a non-tuple sequence for multidimensional indexing is deprecated; use `arr[tuple(seq)]` instead of `arr[seq]`. In the future this will be interpreted as an array index, `arr[np.array(seq)]`, which will result either in an error or a different result.\n",
      "  phi.values = phi.values[slice_]\n",
      "C:\\Users\\rakshith\\Anaconda3\\lib\\site-packages\\pgmpy\\factors\\discrete\\DiscreteFactor.py:598: FutureWarning: Using a non-tuple sequence for multidimensional indexing is deprecated; use `arr[tuple(seq)]` instead of `arr[seq]`. In the future this will be interpreted as an array index, `arr[np.array(seq)]`, which will result either in an error or a different result.\n",
      "  phi1.values = phi1.values[slice_]\n"
     ]
    },
    {
     "name": "stdout",
     "output_type": "stream",
     "text": [
      "+----------------+---------------------+\n",
      "| heartdisease   |   phi(heartdisease) |\n",
      "+================+=====================+\n",
      "| heartdisease_0 |              0.5355 |\n",
      "+----------------+---------------------+\n",
      "| heartdisease_1 |              0.1873 |\n",
      "+----------------+---------------------+\n",
      "| heartdisease_2 |              0.1256 |\n",
      "+----------------+---------------------+\n",
      "| heartdisease_3 |              0.1092 |\n",
      "+----------------+---------------------+\n",
      "| heartdisease_4 |              0.0424 |\n",
      "+----------------+---------------------+\n",
      "\n",
      "2.Probability of HeartDisease given chol(Cholestrol)=100\n",
      "+----------------+---------------------+\n",
      "| heartdisease   |   phi(heartdisease) |\n",
      "+================+=====================+\n",
      "| heartdisease_0 |              0.0000 |\n",
      "+----------------+---------------------+\n",
      "| heartdisease_1 |              1.0000 |\n",
      "+----------------+---------------------+\n",
      "| heartdisease_2 |              0.0000 |\n",
      "+----------------+---------------------+\n",
      "| heartdisease_3 |              0.0000 |\n",
      "+----------------+---------------------+\n",
      "| heartdisease_4 |              0.0000 |\n",
      "+----------------+---------------------+\n"
     ]
    }
   ],
   "source": [
    "#Computing the probability of bronc given smoke. \n",
    "print('\\n1.Probability of HeartDisease given Age=35')\n",
    "q = HeartDisease_infer.query(variables=['heartdisease'], evidence={'age': 35}) \n",
    "print(q['heartdisease'])\n",
    "print('\\n2.Probability of HeartDisease given chol(Cholestrol)=100')\n",
    "q= HeartDisease_infer.query(variables=['heartdisease'], evidence={'chol': 110}) \n",
    "print(q['heartdisease'])"
   ]
  }
 ],
 "metadata": {
  "kernelspec": {
   "display_name": "Python 3",
   "language": "python",
   "name": "python3"
  },
  "language_info": {
   "codemirror_mode": {
    "name": "ipython",
    "version": 3
   },
   "file_extension": ".py",
   "mimetype": "text/x-python",
   "name": "python",
   "nbconvert_exporter": "python",
   "pygments_lexer": "ipython3",
   "version": "3.7.0"
  }
 },
 "nbformat": 4,
 "nbformat_minor": 2
}
