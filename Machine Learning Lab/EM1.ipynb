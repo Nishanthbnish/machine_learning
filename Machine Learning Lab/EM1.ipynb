{
 "cells": [
  {
   "cell_type": "code",
   "execution_count": 1,
   "metadata": {},
   "outputs": [],
   "source": [
    "import matplotlib.pyplot as plt\n",
    "from sklearn import datasets\n",
    "from sklearn.cluster import KMeans\n",
    "import pandas as pd\n",
    "import numpy as np"
   ]
  },
  {
   "cell_type": "code",
   "execution_count": 2,
   "metadata": {},
   "outputs": [],
   "source": [
    "# import some data to play with\n",
    "iris = datasets.load_iris()\n",
    "X = pd.DataFrame(iris.data)\n",
    "X.columns = ['Sepal_Length','Sepal_Width','Petal_Length','Petal_Width']\n",
    "y = pd.DataFrame(iris.target)\n",
    "y.columns = ['Targets']"
   ]
  },
  {
   "cell_type": "code",
   "execution_count": 3,
   "metadata": {},
   "outputs": [
    {
     "data": {
      "text/html": [
       "<div>\n",
       "<style scoped>\n",
       "    .dataframe tbody tr th:only-of-type {\n",
       "        vertical-align: middle;\n",
       "    }\n",
       "\n",
       "    .dataframe tbody tr th {\n",
       "        vertical-align: top;\n",
       "    }\n",
       "\n",
       "    .dataframe thead th {\n",
       "        text-align: right;\n",
       "    }\n",
       "</style>\n",
       "<table border=\"1\" class=\"dataframe\">\n",
       "  <thead>\n",
       "    <tr style=\"text-align: right;\">\n",
       "      <th></th>\n",
       "      <th>Sepal_Length</th>\n",
       "      <th>Sepal_Width</th>\n",
       "      <th>Petal_Length</th>\n",
       "      <th>Petal_Width</th>\n",
       "    </tr>\n",
       "  </thead>\n",
       "  <tbody>\n",
       "    <tr>\n",
       "      <th>0</th>\n",
       "      <td>5.1</td>\n",
       "      <td>3.5</td>\n",
       "      <td>1.4</td>\n",
       "      <td>0.2</td>\n",
       "    </tr>\n",
       "    <tr>\n",
       "      <th>1</th>\n",
       "      <td>4.9</td>\n",
       "      <td>3.0</td>\n",
       "      <td>1.4</td>\n",
       "      <td>0.2</td>\n",
       "    </tr>\n",
       "    <tr>\n",
       "      <th>2</th>\n",
       "      <td>4.7</td>\n",
       "      <td>3.2</td>\n",
       "      <td>1.3</td>\n",
       "      <td>0.2</td>\n",
       "    </tr>\n",
       "    <tr>\n",
       "      <th>3</th>\n",
       "      <td>4.6</td>\n",
       "      <td>3.1</td>\n",
       "      <td>1.5</td>\n",
       "      <td>0.2</td>\n",
       "    </tr>\n",
       "    <tr>\n",
       "      <th>4</th>\n",
       "      <td>5.0</td>\n",
       "      <td>3.6</td>\n",
       "      <td>1.4</td>\n",
       "      <td>0.2</td>\n",
       "    </tr>\n",
       "  </tbody>\n",
       "</table>\n",
       "</div>"
      ],
      "text/plain": [
       "   Sepal_Length  Sepal_Width  Petal_Length  Petal_Width\n",
       "0           5.1          3.5           1.4          0.2\n",
       "1           4.9          3.0           1.4          0.2\n",
       "2           4.7          3.2           1.3          0.2\n",
       "3           4.6          3.1           1.5          0.2\n",
       "4           5.0          3.6           1.4          0.2"
      ]
     },
     "execution_count": 3,
     "metadata": {},
     "output_type": "execute_result"
    }
   ],
   "source": [
    "X.head()"
   ]
  },
  {
   "cell_type": "code",
   "execution_count": 4,
   "metadata": {},
   "outputs": [
    {
     "data": {
      "text/html": [
       "<div>\n",
       "<style scoped>\n",
       "    .dataframe tbody tr th:only-of-type {\n",
       "        vertical-align: middle;\n",
       "    }\n",
       "\n",
       "    .dataframe tbody tr th {\n",
       "        vertical-align: top;\n",
       "    }\n",
       "\n",
       "    .dataframe thead th {\n",
       "        text-align: right;\n",
       "    }\n",
       "</style>\n",
       "<table border=\"1\" class=\"dataframe\">\n",
       "  <thead>\n",
       "    <tr style=\"text-align: right;\">\n",
       "      <th></th>\n",
       "      <th>Targets</th>\n",
       "    </tr>\n",
       "  </thead>\n",
       "  <tbody>\n",
       "    <tr>\n",
       "      <th>0</th>\n",
       "      <td>0</td>\n",
       "    </tr>\n",
       "    <tr>\n",
       "      <th>1</th>\n",
       "      <td>0</td>\n",
       "    </tr>\n",
       "    <tr>\n",
       "      <th>2</th>\n",
       "      <td>0</td>\n",
       "    </tr>\n",
       "    <tr>\n",
       "      <th>3</th>\n",
       "      <td>0</td>\n",
       "    </tr>\n",
       "    <tr>\n",
       "      <th>4</th>\n",
       "      <td>0</td>\n",
       "    </tr>\n",
       "  </tbody>\n",
       "</table>\n",
       "</div>"
      ],
      "text/plain": [
       "   Targets\n",
       "0        0\n",
       "1        0\n",
       "2        0\n",
       "3        0\n",
       "4        0"
      ]
     },
     "execution_count": 4,
     "metadata": {},
     "output_type": "execute_result"
    }
   ],
   "source": [
    "y.head()"
   ]
  },
  {
   "cell_type": "code",
   "execution_count": 5,
   "metadata": {},
   "outputs": [
    {
     "name": "stdout",
     "output_type": "stream",
     "text": [
      "     Sepal_Length  Sepal_Width  Petal_Length  Petal_Width\n",
      "0             5.1          3.5           1.4          0.2\n",
      "1             4.9          3.0           1.4          0.2\n",
      "2             4.7          3.2           1.3          0.2\n",
      "3             4.6          3.1           1.5          0.2\n",
      "4             5.0          3.6           1.4          0.2\n",
      "5             5.4          3.9           1.7          0.4\n",
      "6             4.6          3.4           1.4          0.3\n",
      "7             5.0          3.4           1.5          0.2\n",
      "8             4.4          2.9           1.4          0.2\n",
      "9             4.9          3.1           1.5          0.1\n",
      "10            5.4          3.7           1.5          0.2\n",
      "11            4.8          3.4           1.6          0.2\n",
      "12            4.8          3.0           1.4          0.1\n",
      "13            4.3          3.0           1.1          0.1\n",
      "14            5.8          4.0           1.2          0.2\n",
      "15            5.7          4.4           1.5          0.4\n",
      "16            5.4          3.9           1.3          0.4\n",
      "17            5.1          3.5           1.4          0.3\n",
      "18            5.7          3.8           1.7          0.3\n",
      "19            5.1          3.8           1.5          0.3\n",
      "20            5.4          3.4           1.7          0.2\n",
      "21            5.1          3.7           1.5          0.4\n",
      "22            4.6          3.6           1.0          0.2\n",
      "23            5.1          3.3           1.7          0.5\n",
      "24            4.8          3.4           1.9          0.2\n",
      "25            5.0          3.0           1.6          0.2\n",
      "26            5.0          3.4           1.6          0.4\n",
      "27            5.2          3.5           1.5          0.2\n",
      "28            5.2          3.4           1.4          0.2\n",
      "29            4.7          3.2           1.6          0.2\n",
      "..            ...          ...           ...          ...\n",
      "120           6.9          3.2           5.7          2.3\n",
      "121           5.6          2.8           4.9          2.0\n",
      "122           7.7          2.8           6.7          2.0\n",
      "123           6.3          2.7           4.9          1.8\n",
      "124           6.7          3.3           5.7          2.1\n",
      "125           7.2          3.2           6.0          1.8\n",
      "126           6.2          2.8           4.8          1.8\n",
      "127           6.1          3.0           4.9          1.8\n",
      "128           6.4          2.8           5.6          2.1\n",
      "129           7.2          3.0           5.8          1.6\n",
      "130           7.4          2.8           6.1          1.9\n",
      "131           7.9          3.8           6.4          2.0\n",
      "132           6.4          2.8           5.6          2.2\n",
      "133           6.3          2.8           5.1          1.5\n",
      "134           6.1          2.6           5.6          1.4\n",
      "135           7.7          3.0           6.1          2.3\n",
      "136           6.3          3.4           5.6          2.4\n",
      "137           6.4          3.1           5.5          1.8\n",
      "138           6.0          3.0           4.8          1.8\n",
      "139           6.9          3.1           5.4          2.1\n",
      "140           6.7          3.1           5.6          2.4\n",
      "141           6.9          3.1           5.1          2.3\n",
      "142           5.8          2.7           5.1          1.9\n",
      "143           6.8          3.2           5.9          2.3\n",
      "144           6.7          3.3           5.7          2.5\n",
      "145           6.7          3.0           5.2          2.3\n",
      "146           6.3          2.5           5.0          1.9\n",
      "147           6.5          3.0           5.2          2.0\n",
      "148           6.2          3.4           5.4          2.3\n",
      "149           5.9          3.0           5.1          1.8\n",
      "\n",
      "[150 rows x 4 columns]\n"
     ]
    }
   ],
   "source": [
    "print(X)"
   ]
  },
  {
   "cell_type": "code",
   "execution_count": 6,
   "metadata": {},
   "outputs": [
    {
     "name": "stdout",
     "output_type": "stream",
     "text": [
      "     Targets\n",
      "0          0\n",
      "1          0\n",
      "2          0\n",
      "3          0\n",
      "4          0\n",
      "5          0\n",
      "6          0\n",
      "7          0\n",
      "8          0\n",
      "9          0\n",
      "10         0\n",
      "11         0\n",
      "12         0\n",
      "13         0\n",
      "14         0\n",
      "15         0\n",
      "16         0\n",
      "17         0\n",
      "18         0\n",
      "19         0\n",
      "20         0\n",
      "21         0\n",
      "22         0\n",
      "23         0\n",
      "24         0\n",
      "25         0\n",
      "26         0\n",
      "27         0\n",
      "28         0\n",
      "29         0\n",
      "..       ...\n",
      "120        2\n",
      "121        2\n",
      "122        2\n",
      "123        2\n",
      "124        2\n",
      "125        2\n",
      "126        2\n",
      "127        2\n",
      "128        2\n",
      "129        2\n",
      "130        2\n",
      "131        2\n",
      "132        2\n",
      "133        2\n",
      "134        2\n",
      "135        2\n",
      "136        2\n",
      "137        2\n",
      "138        2\n",
      "139        2\n",
      "140        2\n",
      "141        2\n",
      "142        2\n",
      "143        2\n",
      "144        2\n",
      "145        2\n",
      "146        2\n",
      "147        2\n",
      "148        2\n",
      "149        2\n",
      "\n",
      "[150 rows x 1 columns]\n"
     ]
    }
   ],
   "source": [
    "print(y)"
   ]
  },
  {
   "cell_type": "code",
   "execution_count": 3,
   "metadata": {},
   "outputs": [
    {
     "data": {
      "text/plain": [
       "KMeans(algorithm='auto', copy_x=True, init='k-means++', max_iter=300,\n",
       "    n_clusters=3, n_init=10, n_jobs=1, precompute_distances='auto',\n",
       "    random_state=None, tol=0.0001, verbose=0)"
      ]
     },
     "execution_count": 3,
     "metadata": {},
     "output_type": "execute_result"
    }
   ],
   "source": [
    "# Build the K Means Model\n",
    "model = KMeans(n_clusters=3)\n",
    "model.fit(X) # model.labels_ : Gives cluster no for which samples belongs to"
   ]
  },
  {
   "cell_type": "code",
   "execution_count": 8,
   "metadata": {},
   "outputs": [
    {
     "data": {
      "text/plain": [
       "Text(0,0.5,'Petal Width')"
      ]
     },
     "execution_count": 8,
     "metadata": {},
     "output_type": "execute_result"
    },
    {
     "data": {
      "image/png": "[encoded data removed]",
      "text/plain": [
       "<Figure size 1008x1008 with 2 Axes>"
      ]
     },
     "metadata": {
      "needs_background": "light"
     },
     "output_type": "display_data"
    }
   ],
   "source": [
    "# # Visualise the clustering results\n",
    "plt.figure(figsize=(14,14))\n",
    "colormap = np.array(['red', 'lime', 'black'])\n",
    "# Plot the Original Classifications using Petal features\n",
    "plt.subplot(2, 2,1)\n",
    "plt.scatter(X.Petal_Length, X.Petal_Width, c=colormap[y.Targets], s=40)\n",
    "plt.title('Real Clusters')\n",
    "plt.xlabel('Petal Length')\n",
    "plt.ylabel('Petal Width')\n",
    "# Plot the Models Classifications\n",
    "plt.subplot(2, 2, 2)\n",
    "plt.scatter(X.Petal_Length, X.Petal_Width, c=colormap[model.labels_], s=40)\n",
    "plt.title('K-Means Clustering')\n",
    "plt.xlabel('Petal Length')\n",
    "plt.ylabel('Petal Width')"
   ]
  },
  {
   "cell_type": "code",
   "execution_count": 5,
   "metadata": {},
   "outputs": [],
   "source": [
    "# General EM for GMM\n",
    "from sklearn import preprocessing\n",
    "# transform your data such that its distribution will have a\n",
    "# mean value 0 and standard deviation of 1.\n",
    "scaler = preprocessing.StandardScaler()\n",
    "scaler.fit(X)\n",
    "xsa = scaler.transform(X)\n",
    "xs = pd.DataFrame(xsa, columns = X.columns)"
   ]
  },
  {
   "cell_type": "code",
   "execution_count": 7,
   "metadata": {},
   "outputs": [
    {
     "name": "stdout",
     "output_type": "stream",
     "text": [
      "Observation: The GMM using EM algorithm based clustering matched the true labels more closely than the Kmeans.\n"
     ]
    },
    {
     "data": {
      "image/png": "[encoded data removed]",
      "text/plain": [
       "<Figure size 432x288 with 1 Axes>"
      ]
     },
     "metadata": {
      "needs_background": "light"
     },
     "output_type": "display_data"
    }
   ],
   "source": [
    "from sklearn.mixture import GaussianMixture\n",
    "gmm = GaussianMixture(n_components=3)\n",
    "gmm.fit(xs)\n",
    "gmm_y = gmm.predict(xs)\n",
    "plt.subplot(2, 2, 3)\n",
    "plt.scatter(X.Petal_Length, X.Petal_Width, c=colormap[gmm_y], s=40)\n",
    "plt.title('GMM Clustering')\n",
    "plt.xlabel('Petal Length')\n",
    "plt.ylabel('Petal Width')\n",
    "print('Observation: The GMM using EM algorithm based clustering matched the true labels more closely than the Kmeans.')"
   ]
  },
  {
   "cell_type": "code",
   "execution_count": null,
   "metadata": {},
   "outputs": [],
   "source": []
  }
 ],
 "metadata": {
  "kernelspec": {
   "display_name": "Python 3",
   "language": "python",
   "name": "python3"
  },
  "language_info": {
   "codemirror_mode": {
    "name": "ipython",
    "version": 3
   },
   "file_extension": ".py",
   "mimetype": "text/x-python",
   "name": "python",
   "nbconvert_exporter": "python",
   "pygments_lexer": "ipython3",
   "version": "3.7.0"
  }
 },
 "nbformat": 4,
 "nbformat_minor": 2
}
